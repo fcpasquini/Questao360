{
 "cells": [
  {
   "cell_type": "markdown",
   "metadata": {},
   "source": [
    "# Database Editor"
   ]
  },
  {
   "cell_type": "code",
   "execution_count": 7,
   "metadata": {},
   "outputs": [],
   "source": [
    "from db import Db\n",
    "\n",
    "db_path = \"../data/db/questions.db\"\n",
    "\n",
    "sql = '''CREATE TABLE cartoes_memoria (\n",
    "    id INTEGER PRIMARY KEY AUTOINCREMENT,\n",
    "    nome TEXT NOT NULL,\n",
    "    descricao TEXT NOT NULL,\n",
    "    disciplina TEXT NOT NULL,\n",
    "    subdisciplina TEXT);'''\n",
    "\n",
    "add_sql = '''INSERT into cartoes_memoria (nome, descricao, disciplina, subdisciplina) values (\"Direito Constitucional\",\"Lei fundamental e suprema de um Estado. É ela que determina a organização político-jurídica do Estado\",\"Direito Constitucional\", \"Princípios do Estado\")'''\n",
    "\n",
    "sel_sql = '''SELECT *\n",
    "    FROM cartoes_memoria'''\n",
    "\n",
    "del_sql = '''DROP TABLE cartoes_memoria'''\n",
    "\n",
    "# Retrieve the processed data df, which has the title and body of the news\n",
    "with Db(db_path) as db:\n",
    "    #db.run_query(sql)\n",
    "    #db.run_query(add_sql)\n",
    "    df = db.run_query(sel_sql)"
   ]
  },
  {
   "cell_type": "code",
   "execution_count": 9,
   "metadata": {},
   "outputs": [
    {
     "data": {
      "text/plain": [
       "[(36,\n",
       "  'Como uma das principais lógicas sobre o emprego do hífen, podemos considerar como verdadeira a afirmação: \"Os iguais se atraem\", V ou F?',\n",
       "  'Falso. Os opostos se atraem (Autoestrada)',\n",
       "  'Português',\n",
       "  'Emprego do hífen'),\n",
       " (37,\n",
       "  'De acordo com o novo acordo, \"Microondas\" é a grafia correta, V ou F?',\n",
       "  'Falso. A grafia correta é micro-ondas, pois são letras iguais que devem se repelir',\n",
       "  'Português',\n",
       "  'Emprego do hífen'),\n",
       " (38,\n",
       "  'Em uma palavra composta, caso a segunda comece com R ou S, mas a primeira não termine com a mesma letra, qual tratamento deve ser aplicado?',\n",
       "  'A letra R ou S deve ser duplicada e a palavra deve ser grafada sem hífen (Minissaia)',\n",
       "  'Português',\n",
       "  'Emprego do hífen'),\n",
       " (39,\n",
       "  'Quando há uma palavra composta, em que a primeira parte é \"não\" ou \"quase\", utiliza-se o hífen, V ou F?',\n",
       "  'Falso. Nestes casos, grafa-se a palavra separadamente, sem hífen (quase morte)',\n",
       "  'Português',\n",
       "  'Emprego do hífen'),\n",
       " (40,\n",
       "  'Quando há um conector entre as partes de uma palavra composta, utiliza-se o hífen para separar, V ou F?',\n",
       "  'Falso. Nestes casos, grafa-se a palavra separadamente, sem hífen (mão de obra)',\n",
       "  'Português',\n",
       "  'Emprego do hífen'),\n",
       " (41,\n",
       "  'Os prefixos são muito importantes para a análise do hífen pois, caso a primeira parte seja um prefixo, aplica-se a regra geral dos hífens, V ou F?',\n",
       "  'Verdadeiro. A regra geral do hífen, de que os opostos se atraem, é aplicável quando há um prefixo na primeira parte.',\n",
       "  'Português',\n",
       "  'Emprego do hífen')]"
      ]
     },
     "execution_count": 9,
     "metadata": {},
     "output_type": "execute_result"
    }
   ],
   "source": [
    "df[35:]"
   ]
  },
  {
   "cell_type": "code",
   "execution_count": 53,
   "metadata": {},
   "outputs": [],
   "source": [
    "df = pd.DataFrame()\n",
    "\n",
    "df['Nome'] = ['A', 'B', 'C']\n",
    "df['Numero'] = [1, 2, 2]"
   ]
  },
  {
   "cell_type": "code",
   "execution_count": 59,
   "metadata": {},
   "outputs": [
    {
     "data": {
      "text/plain": [
       "'B'"
      ]
     },
     "execution_count": 59,
     "metadata": {},
     "output_type": "execute_result"
    }
   ],
   "source": [
    "list(df[df['Numero'] == 2]['Nome'])[0]"
   ]
  },
  {
   "cell_type": "code",
   "execution_count": null,
   "metadata": {},
   "outputs": [],
   "source": []
  },
  {
   "cell_type": "code",
   "execution_count": null,
   "metadata": {},
   "outputs": [],
   "source": []
  },
  {
   "cell_type": "code",
   "execution_count": null,
   "metadata": {},
   "outputs": [],
   "source": []
  },
  {
   "cell_type": "code",
   "execution_count": null,
   "metadata": {},
   "outputs": [],
   "source": []
  },
  {
   "cell_type": "code",
   "execution_count": null,
   "metadata": {},
   "outputs": [],
   "source": []
  }
 ],
 "metadata": {
  "kernelspec": {
   "display_name": "Python 3",
   "language": "python",
   "name": "python3"
  },
  "language_info": {
   "codemirror_mode": {
    "name": "ipython",
    "version": 3
   },
   "file_extension": ".py",
   "mimetype": "text/x-python",
   "name": "python",
   "nbconvert_exporter": "python",
   "pygments_lexer": "ipython3",
   "version": "3.11.2"
  },
  "orig_nbformat": 4
 },
 "nbformat": 4,
 "nbformat_minor": 2
}
